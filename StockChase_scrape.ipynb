{
 "cells": [
  {
   "cell_type": "code",
   "execution_count": 1,
   "metadata": {
    "ExecuteTime": {
     "end_time": "2019-12-19T19:58:40.354481Z",
     "start_time": "2019-12-19T19:58:32.841946Z"
    }
   },
   "outputs": [],
   "source": [
    "import requests\n",
    "from bs4 import BeautifulSoup\n",
    "import pandas as pd\n",
    "import numpy as np\n",
    "from datetime import datetime"
   ]
  },
  {
   "cell_type": "markdown",
   "metadata": {},
   "source": [
    "### Set up BeautifulSoup for Scraping"
   ]
  },
  {
   "cell_type": "code",
   "execution_count": 2,
   "metadata": {
    "ExecuteTime": {
     "end_time": "2019-12-19T19:58:40.407118Z",
     "start_time": "2019-12-19T19:58:40.373724Z"
    }
   },
   "outputs": [],
   "source": [
    "URL = \"https://stockchase.com/opinions/recenttop/sort/date/page/1/direction/desc/max/15\"\n",
    "PARSER = 'html.parser'"
   ]
  },
  {
   "cell_type": "code",
   "execution_count": 3,
   "metadata": {
    "ExecuteTime": {
     "end_time": "2019-12-19T19:58:40.467328Z",
     "start_time": "2019-12-19T19:58:40.423107Z"
    }
   },
   "outputs": [],
   "source": [
    "def soup_maker(url, parser):\n",
    "    \"\"\"This function creates a soup from a url\"\"\"\n",
    "    page = requests.get(url)\n",
    "    soup = BeautifulSoup(page.content, parser)\n",
    "    return soup"
   ]
  },
  {
   "cell_type": "markdown",
   "metadata": {},
   "source": [
    "### Define Class for Scraping StockChase"
   ]
  },
  {
   "cell_type": "code",
   "execution_count": 4,
   "metadata": {
    "ExecuteTime": {
     "end_time": "2019-12-19T19:58:40.764098Z",
     "start_time": "2019-12-19T19:58:40.519839Z"
    }
   },
   "outputs": [],
   "source": [
    "def modify_ticker_av(my_ticker, TRADE_US = ['-Q','-N', '-O', '-A' ]):\n",
    "    \"\"\"TEMP_TRADE_TSX = ['-T', 'T ']\n",
    "      TEMP_TRADE_US = ['-Q','-N', '-O', '-A' ]\"\"\"\n",
    "    if my_ticker[-2:] in TRADE_US:\n",
    "        return my_ticker[0:-2]\n",
    "    elif my_ticker[-2:] == 'US':\n",
    "        return my_ticker[0:-3]\n",
    "    elif my_ticker[-2:] == '-T':\n",
    "        return 'TSE:' + my_ticker[0:-2]\n",
    "    elif my_ticker[-2:] == 'T ':\n",
    "        return 'TSE:' + my_ticker[0:-3]\n",
    "    else:\n",
    "        return 'CASH'\n",
    "\n",
    "def modify_ticker_yahoo(my_ticker, TRADE_US = ['-Q','-N', '-O', '-A' ]):\n",
    "    \"\"\"TEMP_TRADE_TSX = ['-T', 'T ']\n",
    "      TEMP_TRADE_US = ['-Q','-N', '-O', '-A' ]\"\"\"\n",
    "    my_ticker = my_ticker.replace('.', '-') \n",
    "    if my_ticker[-2:] in TRADE_US:\n",
    "        ret_tick = my_ticker[0:-2]\n",
    "    elif my_ticker[-2:] == 'US':\n",
    "        ret_tick = my_ticker[0:-3] \n",
    "    elif my_ticker[-2:] == '-T':\n",
    "        ret_tick = my_ticker[0:-2]  + '.TO'\n",
    "    elif my_ticker[-2:] == 'T ':\n",
    "        ret_tick = my_ticker[0:-3]  + '.TO'\n",
    "    else:\n",
    "        ret_tick = 'CASH'\n",
    "    return ret_tick\n",
    "\n",
    "    \n",
    "class StockChasePageInfo(object):\n",
    "    def __init__(self, url, parser):\n",
    "        \"\"\"This is the constructor for the triangle class.\"\"\"\n",
    "        self.page = requests.get(url)\n",
    "        self.soup = BeautifulSoup(self.page.content, parser)\n",
    "        \n",
    "    \n",
    "    def get_expert_names(self):\n",
    "        \"\"\"This method returns the list of all experts on the page\"\"\"\n",
    "        findall_experts = self.soup.find_all('a', class_=\"expert-name\")\n",
    "        experts_series = pd.Series(findall_experts)\n",
    "\n",
    "        experts_list_text = experts_series.apply(lambda x:x.text.strip())\n",
    "\n",
    "        return experts_list_text\n",
    "    \n",
    "    \n",
    "    def get_expert_titles(self):\n",
    "        \"\"\"This method returns the list of all expert titles on the page\"\"\"\n",
    "        findall_expert_titles= self.soup.find_all('div', class_=\"expert-title\")\n",
    "        expert_titles_series = pd.Series(findall_expert_titles)\n",
    "\n",
    "        expert_titles_list_text = expert_titles_series.apply(lambda x:x.text.strip())\n",
    "\n",
    "        return expert_titles_list_text\n",
    "    \n",
    "    \n",
    "    def get_expert_tickers(self, modify_ticker):\n",
    "        \"\"\"This method returns the list of all expert tickers on the page\"\"\"\n",
    "        findall_expert_tickers= self.soup.find_all('span', class_=\"opinion-mini__symbol\")\n",
    "        expert_tickers_series = pd.Series(findall_expert_tickers)\n",
    "\n",
    "        expert_tickers_list_text = expert_tickers_series.apply(lambda x:x.text.strip(\"()\"))\n",
    "        \n",
    "        expert_tickers_list_ready = expert_tickers_list_text.apply( lambda x: modify_ticker(x))\n",
    "        \n",
    "        expert_tickers_list_ready = expert_tickers_list_ready.apply( lambda x: x.replace('.', '-'))\n",
    "\n",
    "        return expert_tickers_list_ready\n",
    "    \n",
    "    \n",
    "    def get_expert_picks(self):\n",
    "        \"\"\"This method returns the list of all expert picks on the page\"\"\"\n",
    "        findall_expert_picks= self.soup.find_all('span', class_=\"opinion-mini__name\")\n",
    "        expert_picks_series = pd.Series(findall_expert_picks)\n",
    "\n",
    "        expert_picks_list_text = expert_picks_series.apply(lambda x:x.text.strip())\n",
    "\n",
    "        return expert_picks_list_text\n",
    "    \n",
    "    \n",
    "    def get_expert_dates(self):\n",
    "        \"\"\"This method returns the list of all expert dates on the page\"\"\"\n",
    "        findall_expert_dates= self.soup.find_all('div', class_=\"opinion-mini__date\")\n",
    "        expert_dates_series = pd.Series(findall_expert_dates)\n",
    "\n",
    "        expert_dates_list_text = expert_dates_series.apply(lambda x:x.text.strip())\n",
    "        \n",
    "        expert_dates_list_dt = expert_dates_list_text.apply(lambda x: datetime.strptime(x, '%B %d, %Y').date())\n",
    "\n",
    "        return expert_dates_list_dt\n",
    "    \n",
    "    \n",
    "    def get_expert_comments(self):\n",
    "        \"\"\"This method returns the list of all expert comments on the page\"\"\"\n",
    "        findall_expert_comments= self.soup.find_all('div', class_=\"opinion-mini__comment\")\n",
    "        expert_comments_series = pd.Series(findall_expert_comments)\n",
    "\n",
    "        expert_comments_list_text = expert_comments_series.apply(lambda x:x.text.strip())\n",
    "\n",
    "        return expert_comments_list_text\n",
    "    \n",
    "    \n",
    "    def get_prices(self):\n",
    "        \"\"\"This method returns the list of all expert prices on the page\"\"\"\n",
    "        findall_prices= self.soup.find_all('div', class_=\"expert-cell d-none d-lg-block\")\n",
    "        prices_series = pd.Series(findall_prices)\n",
    "\n",
    "        prices_list_text = prices_series.apply(lambda x:x.find_all('div')[3].text.strip())\n",
    "\n",
    "        return prices_list_text\n",
    "      \n",
    "    \n",
    "    def get_all(self, modify_ticker):\n",
    "        \"\"\"This method returns all the data on the page\"\"\"\n",
    "        df = pd.DataFrame()\n",
    "        df['Expert Name'] = self.get_expert_names()\n",
    "        df['Expert Title'] = self.get_expert_titles()\n",
    "        df['Top Pick'] = self.get_expert_picks()\n",
    "        df['Ticker'] = self.get_expert_tickers(modify_ticker)\n",
    "        df['Price'] = self.get_prices()\n",
    "        df['Date'] = self.get_expert_dates()\n",
    "        df['Comments'] = self.get_expert_comments()\n",
    "        \n",
    "        return df"
   ]
  },
  {
   "cell_type": "markdown",
   "metadata": {},
   "source": [
    "### Define main function to process the scrape"
   ]
  },
  {
   "cell_type": "code",
   "execution_count": 5,
   "metadata": {
    "ExecuteTime": {
     "end_time": "2019-12-19T19:58:40.948395Z",
     "start_time": "2019-12-19T19:58:40.785375Z"
    }
   },
   "outputs": [],
   "source": [
    "from tqdm import tqdm\n",
    "\n",
    "\n",
    "def scrape_all_stock_chase_top_picks(mod_ticker_func, LAST_PAGE,\\\n",
    "                            URL = \"https://stockchase.com/opinions/recenttop/sort/date/page/1/direction/desc/max/15\",\\\n",
    "                            PARSER = 'html.parser', save=True, filename = 'stockchase_all_top_picks'):\n",
    "    info_dict = {} \n",
    "    \n",
    "    for i in tqdm(range(LAST_PAGE)):\n",
    "        print(\"Loading Page {}...\".format(i+1))\n",
    "        p_URL = URL.replace('/1/','/'+str(i+1) + '/')\n",
    "        p=StockChasePageInfo(p_URL, PARSER)\n",
    "        info_dict['p'+ str(i+1)] = p.get_all(mod_ticker_func)\n",
    "    if save:\n",
    "        print(\"Saving to CSV...\")\n",
    "        my_df=pd.concat(info_dict.values())\n",
    "        my_df.to_csv(filename + '.csv')\n",
    "    return info_dict"
   ]
  },
  {
   "cell_type": "markdown",
   "metadata": {},
   "source": [
    "### Run the scrape on the desired range"
   ]
  },
  {
   "cell_type": "code",
   "execution_count": 9,
   "metadata": {
    "ExecuteTime": {
     "end_time": "2019-12-19T20:00:44.943442Z",
     "start_time": "2019-12-19T20:00:32.816379Z"
    }
   },
   "outputs": [
    {
     "name": "stderr",
     "output_type": "stream",
     "text": [
      "\r",
      "  0%|          | 0/5 [00:00<?, ?it/s]"
     ]
    },
    {
     "name": "stdout",
     "output_type": "stream",
     "text": [
      "Loading Page 1...\n"
     ]
    },
    {
     "name": "stderr",
     "output_type": "stream",
     "text": [
      "\r",
      " 20%|██        | 1/5 [00:02<00:08,  2.06s/it]"
     ]
    },
    {
     "name": "stdout",
     "output_type": "stream",
     "text": [
      "Loading Page 2...\n"
     ]
    },
    {
     "name": "stderr",
     "output_type": "stream",
     "text": [
      "\r",
      " 40%|████      | 2/5 [00:03<00:06,  2.01s/it]"
     ]
    },
    {
     "name": "stdout",
     "output_type": "stream",
     "text": [
      "Loading Page 3...\n"
     ]
    },
    {
     "name": "stderr",
     "output_type": "stream",
     "text": [
      "\r",
      " 60%|██████    | 3/5 [00:06<00:04,  2.12s/it]"
     ]
    },
    {
     "name": "stdout",
     "output_type": "stream",
     "text": [
      "Loading Page 4...\n"
     ]
    },
    {
     "name": "stderr",
     "output_type": "stream",
     "text": [
      "\r",
      " 80%|████████  | 4/5 [00:09<00:02,  2.31s/it]"
     ]
    },
    {
     "name": "stdout",
     "output_type": "stream",
     "text": [
      "Loading Page 5...\n"
     ]
    },
    {
     "name": "stderr",
     "output_type": "stream",
     "text": [
      "\r",
      "100%|██████████| 5/5 [00:11<00:00,  2.45s/it]"
     ]
    },
    {
     "name": "stdout",
     "output_type": "stream",
     "text": [
      "Saving to CSV...\n"
     ]
    },
    {
     "name": "stderr",
     "output_type": "stream",
     "text": [
      "\n"
     ]
    },
    {
     "data": {
      "text/plain": [
       "{'p1':         Expert Name                                       Expert Title  \\\n",
       " 0     Norman Levine       Managing Director, Portfolio Management Corp   \n",
       " 1     Norman Levine       Managing Director, Portfolio Management Corp   \n",
       " 2     Norman Levine       Managing Director, Portfolio Management Corp   \n",
       " 3   Lorne Steinberg  President & Portfolio Manager, Lorne Steinberg...   \n",
       " 4   Lorne Steinberg  President & Portfolio Manager, Lorne Steinberg...   \n",
       " 5   Lorne Steinberg  President & Portfolio Manager, Lorne Steinberg...   \n",
       " 6   Andrey Omelchak      President & CIO, LionGuard Capital Management   \n",
       " 7   Andrey Omelchak      President & CIO, LionGuard Capital Management   \n",
       " 8   Andrey Omelchak      President & CIO, LionGuard Capital Management   \n",
       " 9       Tyler Mordy  President & CIO, Forstrong Global Asset Manage...   \n",
       " 10      Tyler Mordy  President & CIO, Forstrong Global Asset Manage...   \n",
       " 11      Tyler Mordy  President & CIO, Forstrong Global Asset Manage...   \n",
       " 12     Chris Blumas  Portfolio manager, GlobeInvest Capital Management   \n",
       " 13     Chris Blumas  Portfolio manager, GlobeInvest Capital Management   \n",
       " 14     Chris Blumas  Portfolio manager, GlobeInvest Capital Management   \n",
       " \n",
       "                           Top Pick     Ticker     Price        Date  \\\n",
       " 0      Berkshire Hathaway Inc. (B)      BRK-B  $225.310  2019-12-18   \n",
       " 1                   Cenovus Energy     CVE-TO   $12.990  2019-12-18   \n",
       " 2                   Sanofi-Aventis        SNY   $50.300  2019-12-18   \n",
       " 3                  CVS Health Corp        CVS   $73.280  2019-12-18   \n",
       " 4                    Goldman Sachs         GS  $230.450  2019-12-18   \n",
       " 5                Topre Corporation       CASH    $0.000  2019-12-18   \n",
       " 6       Sangoma Technologies Corp.       CASH    $2.260  2019-12-17   \n",
       " 7        Points International Ltd.     PTS-TO   $19.440  2019-12-17   \n",
       " 8                   Photon Control     PHO-TO    $1.110  2019-12-17   \n",
       " 9   iShares MSCI SouthKorea E.T.F.        EWY   $61.370  2019-12-17   \n",
       " 10   iShares MSCI Europe Financial       EUFN   $19.460  2019-12-17   \n",
       " 11          Chile iShares MSCI ETF        ECH    $0.000  2019-12-17   \n",
       " 12               Johnson & Johnson        JNJ  $141.790  2019-12-16   \n",
       " 13       Chartwell Seniors Housing  CSH-UN-TO   $14.310  2019-12-16   \n",
       " 14           Pembina Pipeline Corp     PPL-TO   $47.120  2019-12-16   \n",
       " \n",
       "                                              Comments  \n",
       " 0   The ultimate value stock.  Money is going back...  \n",
       " 1   Money appears to be returning into the energy ...  \n",
       " 2   A French drug company that is starting to run....  \n",
       " 3   They just did a huge acquisition, Aetna, and t...  \n",
       " 4   The Malaysian issue which could cost them seve...  \n",
       " 5   Analysts' price target: 1,825 Yen A cheap stoc...  \n",
       " 6   They do unified communications (phone systems ...  \n",
       " 7   They run loyalty programs (flyer points) for a...  \n",
       " 8   They make fibre-optic sensors, essential to se...  \n",
       " 9   A past top pick.  South Korea is deeply connec...  \n",
       " 10  ETF with high dividend It holds 30% UK banks. ...  \n",
       " 11  Chile is the most stable country in Latin Amer...  \n",
       " 12  Breaking news: found not guilty of misleading ...  \n",
       " 13  A defensive, income name. Earnings growth has ...  \n",
       " 14  A well-run energy infrastructure storage name....  ,\n",
       " 'p2':                      Expert Name  \\\n",
       " 0                     Teal Linde   \n",
       " 1                     Teal Linde   \n",
       " 2                     Teal Linde   \n",
       " 3                Christine Poole   \n",
       " 4                Christine Poole   \n",
       " 5                Christine Poole   \n",
       " 6               Bill Harris, CFA   \n",
       " 7               Bill Harris, CFA   \n",
       " 8               Bill Harris, CFA   \n",
       " 9   Stephen Takacsy, B. Eng, MBA   \n",
       " 10  Stephen Takacsy, B. Eng, MBA   \n",
       " 11  Stephen Takacsy, B. Eng, MBA   \n",
       " 12                Darren Sissons   \n",
       " 13                Darren Sissons   \n",
       " 14                Darren Sissons   \n",
       " \n",
       "                                          Expert Title  \\\n",
       " 0   Portfolio Manager & Publisher, Linde Equity Re...   \n",
       " 1   Portfolio Manager & Publisher, Linde Equity Re...   \n",
       " 2   Portfolio Manager & Publisher, Linde Equity Re...   \n",
       " 3   CEO & Managing Director, GlobeInvest Capital M...   \n",
       " 4   CEO & Managing Director, GlobeInvest Capital M...   \n",
       " 5   CEO & Managing Director, GlobeInvest Capital M...   \n",
       " 6     Portfolio Manager, Avenue Investment Management   \n",
       " 7     Portfolio Manager, Avenue Investment Management   \n",
       " 8     Portfolio Manager, Avenue Investment Management   \n",
       " 9   Chief Investment Officer & Portfolio Mgr, Lest...   \n",
       " 10  Chief Investment Officer & Portfolio Mgr, Lest...   \n",
       " 11  Chief Investment Officer & Portfolio Mgr, Lest...   \n",
       " 12    Vice President and Partner, Campbell Lee & Ross   \n",
       " 13    Vice President and Partner, Campbell Lee & Ross   \n",
       " 14    Vice President and Partner, Campbell Lee & Ross   \n",
       " \n",
       "                        Top Pick    Ticker      Price        Date  \\\n",
       " 0                    Royal Bank     RY-TO   $104.840  2019-12-16   \n",
       " 1        Alphabet Inc. / Google      GOOG  $1361.170  2019-12-16   \n",
       " 2                      Facebook        FB   $197.920  2019-12-16   \n",
       " 3                   Dollar Tree      DLTR    $93.495  2019-12-13   \n",
       " 4                   Fortis Inc.    FTS-TO    $53.320  2019-12-13   \n",
       " 5                    Home Depot        HD   $213.450  2019-12-13   \n",
       " 6            Superior Plus Corp    SPB-TO    $12.070  2019-12-13   \n",
       " 7                 Russel Metals    RUS-TO    $21.990  2019-12-13   \n",
       " 8              Leon's Furniture    LNF-TO    $16.180  2019-12-13   \n",
       " 9   Mediagrif Interactive Techn    MDF-TO     $5.870  2019-12-12   \n",
       " 10                Logistec Corp  LGT-B-TO    $41.000  2019-12-12   \n",
       " 11           Badger Daylighting    BAD-TO    $36.440  2019-12-12   \n",
       " 12    Infosys Technologies Ltd.      INFY    $10.055  2019-12-11   \n",
       " 13            Johnson & Johnson       JNJ   $140.840  2019-12-11   \n",
       " 14    Royal Dutch Shell PLC (B)     RDS-B    $57.148  2019-12-11   \n",
       " \n",
       "                                              Comments  \n",
       " 0   The big five banks have had their weakest year...  \n",
       " 1   Their earnings are growing at 17-18% and the s...  \n",
       " 2   It is growing faster than GOOG-Q and the stock...  \n",
       " 3   An acquisition was a little bumpy at first, bu...  \n",
       " 4   The company has said it will increase the divi...  \n",
       " 5   She has been adding to their existing position...  \n",
       " 6   New highs. Valuations are high in the market, ...  \n",
       " 7   We've been in an industrial recession through ...  \n",
       " 8   Because of indexing, it's fantastic.. The incr...  \n",
       " 9   A Quebec based technology company at a very ch...  \n",
       " 10  Marine cargo handling and environmental servic...  \n",
       " 11  They are not dependent on the oil patch.  It h...  \n",
       " 12  It had a recent dip in share values, so it is ...  \n",
       " 13  If you look at the aggregate liabilities of th...  \n",
       " 14  They bought British Gas in 2018 and have impro...  ,\n",
       " 'p3':            Expert Name                                       Expert Title  \\\n",
       " 0          Greg Newman  Director & Portfolio Manager, Scotia Wealth Ma...   \n",
       " 1          Greg Newman  Director & Portfolio Manager, Scotia Wealth Ma...   \n",
       " 2          Greg Newman  Director & Portfolio Manager, Scotia Wealth Ma...   \n",
       " 3         John Zechner                       Chairman, J. Zechner & Assoc   \n",
       " 4         John Zechner                       Chairman, J. Zechner & Assoc   \n",
       " 5         John Zechner                       Chairman, J. Zechner & Assoc   \n",
       " 6    Paul Gardner, CFA  Partner and Portfolio Manager, Avenue Investme...   \n",
       " 7    Paul Gardner, CFA  Partner and Portfolio Manager, Avenue Investme...   \n",
       " 8    Paul Gardner, CFA  Partner and Portfolio Manager, Avenue Investme...   \n",
       " 9   Bruce Campbell (2)  President & Portfolio Manager, Stone Castle In...   \n",
       " 10  Bruce Campbell (2)  President & Portfolio Manager, Stone Castle In...   \n",
       " 11  Bruce Campbell (2)  President & Portfolio Manager, Stone Castle In...   \n",
       " 12       James Telfser  Partner & Portfolio Manager, Aventine Manageme...   \n",
       " 13       James Telfser  Partner & Portfolio Manager, Aventine Manageme...   \n",
       " 14       James Telfser  Partner & Portfolio Manager, Aventine Manageme...   \n",
       " \n",
       "                            Top Pick     Ticker     Price        Date  \\\n",
       " 0                      Shopify Inc.    SHOP-TO  $487.040  2019-12-11   \n",
       " 1   Restaurant Brands International     QSR-TO   $88.880  2019-12-11   \n",
       " 2                      Nutrien Ltd.     NTR-TO   $61.370  2019-12-11   \n",
       " 3                             FedEx        FDX  $156.630  2019-12-10   \n",
       " 4        Crescent Point Energy Corp     CPG-TO    $4.760  2019-12-10   \n",
       " 5                        BlackBerry      BB-TO    $7.200  2019-12-10   \n",
       " 6                    Boardwalk REIT  BEI-UN-TO   $48.750  2019-12-10   \n",
       " 7        Timbercreek Financial Corp      TF-TO   $10.010  2019-12-10   \n",
       " 8                    Inter Pipeline     IPL-TO   $22.320  2019-12-10   \n",
       " 9               Canopy Growth Corp.    WEED-TO   $24.720  2019-12-09   \n",
       " 10            Xebec Adsorptions Inc       CASH    $2.300  2019-12-09   \n",
       " 11                   Lightspeed POS    LSPD-TO   $33.660  2019-12-09   \n",
       " 12                      Akumin Inc.     AKU-TO    $4.450  2019-12-09   \n",
       " 13                Firstservice Corp     FSV-TO  $124.000  2019-12-09   \n",
       " 14               Heroux-Devtek Inc.     HRX-TO   $17.920  2019-12-09   \n",
       " \n",
       "                                              Comments  \n",
       " 0   The gift you put into your Christmas stocking....  \n",
       " 1   Try to buy the good names when they are down. ...  \n",
       " 2   It has been under pressure from tax loss selli...  \n",
       " 3   He's sticking with this, a past pick. He doesn...  \n",
       " 4   They are well-positioned, what he wants an ene...  \n",
       " 5   CEO John Chen has done an unbelievable job of ...  \n",
       " 6   They get hurt by the Calgary recession and rem...  \n",
       " 7   Bond-like, they're very good at mezzanine and ...  \n",
       " 8   They're developing a $3-billion asset, chemica...  \n",
       " 9   He thinks the cannabis business is going to be...  \n",
       " 10  They are in the renewable natural gas business...  \n",
       " 11  They have been growing revenues at over 50% pe...  \n",
       " 12  He picked this last time. It's a great growth-...  \n",
       " 13  Their businesses are closets, painting and res...  \n",
       " 14  They execute brilliantly, integrating very wel...  ,\n",
       " 'p4':         Expert Name                                       Expert Title  \\\n",
       " 0        Kim Bolton  President and Portfolio Manager, Black Swan De...   \n",
       " 1        Kim Bolton  President and Portfolio Manager, Black Swan De...   \n",
       " 2        Kim Bolton  President and Portfolio Manager, Black Swan De...   \n",
       " 3   Brooke Thackray      Research Analyst, Horizons ETFs (Canada) Inc.   \n",
       " 4   Brooke Thackray      Research Analyst, Horizons ETFs (Canada) Inc.   \n",
       " 5   Brooke Thackray      Research Analyst, Horizons ETFs (Canada) Inc.   \n",
       " 6   Brian Acker, CA  Chief Executive Officer, President and Chief I...   \n",
       " 7   Brian Acker, CA  Chief Executive Officer, President and Chief I...   \n",
       " 8   Brian Acker, CA  Chief Executive Officer, President and Chief I...   \n",
       " 9        Ross Healy                  Chairman, Strategic Analysis Corp   \n",
       " 10       Ross Healy                  Chairman, Strategic Analysis Corp   \n",
       " 11       Ross Healy                  Chairman, Strategic Analysis Corp   \n",
       " 12      Jon Vialoux                 Research Analyst, CastleMoore Inc.   \n",
       " 13      Jon Vialoux                 Research Analyst, CastleMoore Inc.   \n",
       " 14      Jon Vialoux                 Research Analyst, CastleMoore Inc.   \n",
       " \n",
       "                              Top Pick    Ticker     Price        Date  \\\n",
       " 0              Advanced Micro Devices       AMD   $39.870  2019-12-06   \n",
       " 1                Digital Realty Trust       DLR  $118.435  2019-12-06   \n",
       " 2                              Yandex      YNDX   $40.460  2019-12-06   \n",
       " 3                   Horizons Gold ETF    HUG-TO   $12.870  2019-12-06   \n",
       " 4        SPDR Portfolio Small Cap ETF      SPSM   $32.080  2019-12-06   \n",
       " 5         iShares Russell 1000 E.T.F.       IWD  $134.670  2019-12-06   \n",
       " 6                         Exxon Mobil       XOM   $68.410  2019-12-05   \n",
       " 7                   Johnson & Johnson       JNJ  $139.560  2019-12-05   \n",
       " 8                    Marsh & McLennan       MMC  $107.370  2019-12-05   \n",
       " 9                  Manulife Financial    MFC-TO   $25.380  2019-12-04   \n",
       " 10               Power Financial Corp    PWF-TO   $32.340  2019-12-04   \n",
       " 11                       Iamgold Corp    IMG-TO    $4.880  2019-12-04   \n",
       " 12           iShares Russell 2000 ETF       IWM  $160.780  2019-12-04   \n",
       " 13                      SPDR Gold ETF       GLD  $138.920  2019-12-04   \n",
       " 14  A&W Revenue Royalties Income Fund  AW-UN-TO   $37.500  2019-12-04   \n",
       " \n",
       "                                              Comments  \n",
       " 0   It is not cheap here as his price target is $4...  \n",
       " 1   This is a data centre play for big players (li...  \n",
       " 2   A massive Russian company with five key busine...  \n",
       " 3   He sees gold going up. We’re starting the seas...  \n",
       " 4   Small-caps have underperformed since last July...  \n",
       " 5   We’re seeing more weakness in tech and other g...  \n",
       " 6   It is the cheapest it has been since 1995.  5%...  \n",
       " 7   The drug space all have huge upsides.  He has ...  \n",
       " 8   Model price of $115.23 which is an 8% upside. ...  \n",
       " 9   Pays a nice dividend. FMV is way above the cur...  \n",
       " 10  A bit of a gamble, he admits. The heirs of the...  \n",
       " 11  Good upside and balance sheet. He likes the go...  \n",
       " 12  This is the catch-up trade, anticipating the r...  \n",
       " 13  He projects $1,700 gold. Dec.15-Feb.24 is GLD'...  \n",
       " 14  It pays out 3% of revenues from the 900 A&W lo...  ,\n",
       " 'p5':         Expert Name                                       Expert Title  \\\n",
       " 0    Michael Sprung            President, Sprung Investment Management   \n",
       " 1    Michael Sprung            President, Sprung Investment Management   \n",
       " 2    Michael Sprung            President, Sprung Investment Management   \n",
       " 3      David Baskin                President, Baskin Wealth Management   \n",
       " 4      David Baskin                President, Baskin Wealth Management   \n",
       " 5      David Baskin                President, Baskin Wealth Management   \n",
       " 6     David Fingold            VP and Portfolio Manager, Dynamic Funds   \n",
       " 7     David Fingold            VP and Portfolio Manager, Dynamic Funds   \n",
       " 8     David Fingold            VP and Portfolio Manager, Dynamic Funds   \n",
       " 9   Joshua Varghese  Portfolio manager, Signature Global Asset Mana...   \n",
       " 10  Joshua Varghese  Portfolio manager, Signature Global Asset Mana...   \n",
       " 11  Joshua Varghese  Portfolio manager, Signature Global Asset Mana...   \n",
       " 12    Robert Lauzon  Deputy Chief Investment Officer, Middlefield C...   \n",
       " 13    Robert Lauzon  Deputy Chief Investment Officer, Middlefield C...   \n",
       " 14    Robert Lauzon  Deputy Chief Investment Officer, Middlefield C...   \n",
       " \n",
       "                           Top Pick    Ticker     Price        Date  \\\n",
       " 0                   Alaris Royalty     AD-TO   $21.790  2019-12-03   \n",
       " 1               North West Company    NWC-TO   $28.460  2019-12-03   \n",
       " 2                      Fortis Inc.    FTS-TO   $51.880  2019-12-03   \n",
       " 3        Rogers Communications (B)  RCI-B-TO   $63.230  2019-12-03   \n",
       " 4   Live Nation Entertainment Inc.       LYV   $69.160  2019-12-03   \n",
       " 5          National Bank of Canada     NA-TO   $70.900  2019-12-03   \n",
       " 6       Keysight Technologies Inc.      KEYS  $103.290  2019-12-02   \n",
       " 7                 Hoya Corporation      CASH    $0.000  2019-12-02   \n",
       " 8                          Sika AG      CASH  $170.000  2019-12-02   \n",
       " 9       MGM Growth Properties LLC.       MGP   $30.300  2019-12-02   \n",
       " 10                Americold Realty      COLD   $37.290  2019-12-02   \n",
       " 11   First Industrial Realty Trust        FR   $42.250  2019-12-02   \n",
       " 12             WPT Industrial REIT  WIR-U-TO   $13.700  2019-11-29   \n",
       " 13        Westshore Terminals Inc.    WTE-TO   $21.900  2019-11-29   \n",
       " 14                    Cineplex Inc    CGX-TO   $25.440  2019-11-29   \n",
       " \n",
       "                                              Comments  \n",
       " 0   He's picked this before. It's had its issues, ...  \n",
       " 1   They're going more into services. They're inte...  \n",
       " 2   Well-diversified across North America. $13 bil...  \n",
       " 3   It's oversold. Investors felt they paid too mu...  \n",
       " 4   It's the top concert venue and ticketing compa...  \n",
       " 5   It's his favourite bank. Always liked its chea...  \n",
       " 6   It is the old HP instrumentation business.  It...  \n",
       " 7   They make glass.  Eye glasses.  They have been...  \n",
       " 8   They just announced a floor sealer with lower ...  \n",
       " 9   Was a spin-out of MGM (the casino). They struc...  \n",
       " 10  They own chilled warehouses, the biggest playe...  \n",
       " 11  They have less exposure (40%) to US coastal ma...  \n",
       " 12  The tailwind of e-commerce.  Their distributio...  \n",
       " 13  This could be a take over by a private equity ...  \n",
       " 14  He thinks this could be a private equity take ...  }"
      ]
     },
     "execution_count": 9,
     "metadata": {},
     "output_type": "execute_result"
    }
   ],
   "source": [
    "scrape_all_stock_chase_top_picks(mod_ticker_func=modify_ticker_yahoo, LAST_PAGE=5)"
   ]
  },
  {
   "cell_type": "code",
   "execution_count": null,
   "metadata": {},
   "outputs": [],
   "source": []
  }
 ],
 "metadata": {
  "kernelspec": {
   "display_name": "Python 3",
   "language": "python",
   "name": "python3"
  },
  "language_info": {
   "codemirror_mode": {
    "name": "ipython",
    "version": 3
   },
   "file_extension": ".py",
   "mimetype": "text/x-python",
   "name": "python",
   "nbconvert_exporter": "python",
   "pygments_lexer": "ipython3",
   "version": "3.7.3"
  },
  "nbTranslate": {
   "displayLangs": [
    "*"
   ],
   "hotkey": "alt-t",
   "langInMainMenu": true,
   "sourceLang": "en",
   "targetLang": "fr",
   "useGoogleTranslate": true
  },
  "toc": {
   "base_numbering": 1,
   "nav_menu": {},
   "number_sections": true,
   "sideBar": true,
   "skip_h1_title": false,
   "title_cell": "Table of Contents",
   "title_sidebar": "Contents",
   "toc_cell": false,
   "toc_position": {},
   "toc_section_display": true,
   "toc_window_display": false
  },
  "varInspector": {
   "cols": {
    "lenName": 16,
    "lenType": 16,
    "lenVar": 40
   },
   "kernels_config": {
    "python": {
     "delete_cmd_postfix": "",
     "delete_cmd_prefix": "del ",
     "library": "var_list.py",
     "varRefreshCmd": "print(var_dic_list())"
    },
    "r": {
     "delete_cmd_postfix": ") ",
     "delete_cmd_prefix": "rm(",
     "library": "var_list.r",
     "varRefreshCmd": "cat(var_dic_list()) "
    }
   },
   "types_to_exclude": [
    "module",
    "function",
    "builtin_function_or_method",
    "instance",
    "_Feature"
   ],
   "window_display": false
  }
 },
 "nbformat": 4,
 "nbformat_minor": 2
}
